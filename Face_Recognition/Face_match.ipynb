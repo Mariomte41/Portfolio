{
 "cells": [
  {
   "cell_type": "code",
   "execution_count": null,
   "id": "4782627f-01d2-492a-9051-3bb2cac5025b",
   "metadata": {},
   "outputs": [],
   "source": [
    "import cv2\n",
    "import numpy as np\n",
    "import matplotlib.pyplot as plt\n",
    "from deepface import DeepFace\n",
    "import threading\n",
    "%matplotlib inline"
   ]
  },
  {
   "cell_type": "code",
   "execution_count": null,
   "id": "b423c73f-9c5b-4ae6-bbde-c4af3ed4855e",
   "metadata": {},
   "outputs": [],
   "source": [
    "cap = cv2.VideoCapture(0,cv2.CAP_DSHOW)\n",
    "cap.set(cv2.CAP_PROP_FRAME_WIDTH, 640)\n",
    "cap.set(cv2.CAP_PROP_FRAME_HEIGHT, 480)\n",
    "\n",
    "counter = 0\n",
    "face_match = False\n",
    "\n",
    "reference_img = cv2.imread(\"reference.jpg\")\n",
    "def check_face(frame):\n",
    "    global face_match\n",
    "    try:\n",
    "        if DeepFace.verify(frame, reference_img.copy())[\"verified\"]:\n",
    "            face_match = True\n",
    "        else:\n",
    "            face_match = False\n",
    "    except ValueError:\n",
    "        pass\n",
    "\n",
    "while True:\n",
    "    ret, frame = cap.read()\n",
    "    \n",
    "    if ret:\n",
    "        if counter % 100 == 0:\n",
    "            try:\n",
    "                threading.Thread(target=check_face, args=(frame.copy(),)).start()\n",
    "            except ValueError:\n",
    "                pass\n",
    "        counter += 1\n",
    "        \n",
    "        if face_match:\n",
    "            cv2.putText(frame, \"MATCH\", (20,450), cv2.FONT_HERSHEY_SIMPLEX, 2, (0,255,0), 3)\n",
    "        else:\n",
    "            cv2.putText(frame, \"NO MATCH\", (20,450), cv2.FONT_HERSHEY_SIMPLEX, 2, (0,0,255), 3)\n",
    "            \n",
    "        cv2.imshow(\"video\", frame)\n",
    "        \n",
    "    if cv2.waitKey(1) & 0xFF == ord('q'):\n",
    "        break\n",
    "\n",
    "cv2.destroyAllWindows()"
   ]
  },
  {
   "cell_type": "code",
   "execution_count": null,
   "id": "744db6cd-daed-4830-a9a9-02aa06158359",
   "metadata": {},
   "outputs": [],
   "source": [
    "reference_img = cv2.imread(\"reference.jpg\")\n",
    "reference_img = cv2.cvtColor(reference_img, cv2.COLOR_BGR2RGB)\n",
    "plt.imshow(reference_img)"
   ]
  },
  {
   "cell_type": "code",
   "execution_count": null,
   "id": "9c691346-12a3-46be-8462-a268f4ca581d",
   "metadata": {},
   "outputs": [],
   "source": []
  }
 ],
 "metadata": {
  "kernelspec": {
   "display_name": "Python 3 (ipykernel)",
   "language": "python",
   "name": "python3"
  },
  "language_info": {
   "codemirror_mode": {
    "name": "ipython",
    "version": 3
   },
   "file_extension": ".py",
   "mimetype": "text/x-python",
   "name": "python",
   "nbconvert_exporter": "python",
   "pygments_lexer": "ipython3",
   "version": "3.11.7"
  }
 },
 "nbformat": 4,
 "nbformat_minor": 5
}
