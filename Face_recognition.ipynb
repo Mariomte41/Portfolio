{
 "cells": [
  {
   "cell_type": "code",
   "execution_count": 1,
   "id": "7a9bfa81",
   "metadata": {},
   "outputs": [],
   "source": [
    "import face_recognition\n",
    "import os, sys\n",
    "import cv2\n",
    "import numpy as np\n",
    "import math\n",
    "import matplotlib.pyplot as plt\n",
    "from deepface import DeepFace\n",
    "import threading\n",
    "%matplotlib inline"
   ]
  },
  {
   "cell_type": "code",
   "execution_count": 2,
   "id": "a130c0d1",
   "metadata": {},
   "outputs": [],
   "source": [
    "def face_confidence(face_distance,face_match_threshold=0-6):\n",
    "    range = (1.0 - face_match_threshold)\n",
    "    linear_val = (1.0-face_distance) / (range * 2.0)\n",
    "    if face_distance > face_match_threshold:\n",
    "        return str(round(linear_val * 100, 2)) + \"%\"\n",
    "    else:\n",
    "        value = (linear_val + ((1.0 - linear_val) * math.pow((linear_val -0.5) * 2, 0.2))) * 100\n",
    "        return str(round(value, 2)) + \"%\""
   ]
  },
  {
   "cell_type": "code",
   "execution_count": 4,
   "id": "26d2f5e4",
   "metadata": {},
   "outputs": [
    {
     "name": "stdout",
     "output_type": "stream",
     "text": [
      "['deni.jpg']\n"
     ]
    },
    {
     "data": {
      "text/plain": [
       "None"
      ]
     },
     "metadata": {},
     "output_type": "display_data"
    },
    {
     "name": "stdout",
     "output_type": "stream",
     "text": [
      "['deni.jpg', 'reference.jpg']\n"
     ]
    },
    {
     "data": {
      "text/plain": [
       "None"
      ]
     },
     "metadata": {},
     "output_type": "display_data"
    }
   ],
   "source": [
    "class FaceRecognition:\n",
    "    face_locations = []\n",
    "    face_encodings = []\n",
    "    face_names = []\n",
    "    known_face_encodings = []\n",
    "    known_face_names = []\n",
    "    process_current_frame = True\n",
    "    def __init__(self):\n",
    "        self.encode_faces()\n",
    "        \n",
    "    def encode_faces(self):\n",
    "        for image in os.listdir(\"faces\"):\n",
    "            face_image = face_recognition.load_image_file(f\"faces/{image}\")\n",
    "            face_encoding = face_recognition.face_encodings(face_image)[0]\n",
    "            self.known_face_encodings.append(face_encoding)\n",
    "            self.known_face_names.append(image)\n",
    "            display(print(self.known_face_names))\n",
    "    def run_recognition(self):\n",
    "        video_capture = cv2.VideoCapture(0)\n",
    "        if not video_capture.isOpened():\n",
    "            sys.exit(\"Video source not found...\")\n",
    "        while True:\n",
    "            ret, frame = video_capture.read()\n",
    "            \n",
    "            if self.process_current_frame:\n",
    "                small_frame = cv2.resize(frame, (0,0), fx=0.25, fy= 0.25)\n",
    "                rgb_small_frame = np.ascontiguousarray(small_frame[:, :, ::-1])\n",
    "                \n",
    "                self.face_locations = face_recognition.face_locations(rgb_small_frame)\n",
    "                self.face_encodings = face_recognition.face_encodings(rgb_small_frame,self.face_locations)\n",
    "                \n",
    "                self.face_names = []\n",
    "                for face_encoding in self.face_encodings:\n",
    "                    matches = face_recognition.compare_faces(self.known_face_encodings, face_encoding)\n",
    "                    name = \"Unknown\"\n",
    "                    confidence = \"Unknown\"\n",
    "                    \n",
    "                    face_distances = face_recognition.face_distance(self.known_face_encodings, face_encoding)\n",
    "                    best_match_index = np.argmin(face_distances)\n",
    "                    \n",
    "                    if matches[best_match_index]:\n",
    "                        name = self.known_face_names[best_match_index]\n",
    "                        confidence = face_confidence(face_distances[best_match_index])\n",
    "                        \n",
    "                    self.face_names.append(f\"{name} ({confidence})\")\n",
    "            self.process_current_frame = not self.process_current_frame\n",
    "            for (top, right, bottom, left), name in zip(self.face_locations, self.face_names):\n",
    "                top *= 4\n",
    "                right *= 4\n",
    "                bottom *= 4\n",
    "                left *= 4\n",
    "                \n",
    "                cv2.rectangle(frame, (left, top), (right, bottom), (0,0,255),2)\n",
    "                cv2.rectangle(frame, (left, bottom - 35),(right,bottom), (0,0,255),-1)\n",
    "                cv2.putText(frame,name, (left +6, bottom - 6), cv2.FONT_HERSHEY_DUPLEX, 0.8, (255,255,255),1)\n",
    "            cv2.imshow(\"Face recognition\",frame)\n",
    "            \n",
    "            if cv2.waitKey(1) == ord(\"q\"):\n",
    "                break\n",
    "        video_capture.release()\n",
    "        cv2.destroyAllWindows()\n",
    "    \n",
    "if __name__ == \"__main__\":\n",
    "    fr = FaceRecognition()\n",
    "    fr.run_recognition()"
   ]
  }
 ],
 "metadata": {
  "kernelspec": {
   "display_name": "Python 3 (ipykernel)",
   "language": "python",
   "name": "python3"
  },
  "language_info": {
   "codemirror_mode": {
    "name": "ipython",
    "version": 3
   },
   "file_extension": ".py",
   "mimetype": "text/x-python",
   "name": "python",
   "nbconvert_exporter": "python",
   "pygments_lexer": "ipython3",
   "version": "3.11.5"
  }
 },
 "nbformat": 4,
 "nbformat_minor": 5
}
